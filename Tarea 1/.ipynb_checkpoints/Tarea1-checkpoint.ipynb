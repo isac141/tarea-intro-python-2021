{
 "cells": [
  {
   "cell_type": "markdown",
   "metadata": {},
   "source": [
    "# TAREA 1"
   ]
  },
  {
   "cell_type": "markdown",
   "metadata": {},
   "source": [
    "4. Imprima \"Hola mundo\" utilizando la función print()"
   ]
  },
  {
   "cell_type": "code",
   "execution_count": 4,
   "metadata": {},
   "outputs": [
    {
     "name": "stdout",
     "output_type": "stream",
     "text": [
      "Hola mundo\n"
     ]
    }
   ],
   "source": [
    "print(\"Hola mundo\")"
   ]
  },
  {
   "cell_type": "markdown",
   "metadata": {},
   "source": [
    "5. Cree tres variables nombre, edad, pais. Asigne el valor de estas variables a su nombre, edad, y país.\n"
   ]
  },
  {
   "cell_type": "markdown",
   "metadata": {},
   "source": [
    "\n",
    "6. Concatene e imprima las variables nombre, edad, pais utilizando una sola función print()."
   ]
  },
  {
   "cell_type": "code",
   "execution_count": null,
   "metadata": {},
   "outputs": [],
   "source": [
    "nombre=\"Isac Samael Lainez Sevilla\"\n",
    "edad=20\n",
    "pais=\"Honduras\"\n",
    "print(str(nombre) + str(edad) + str(pais))\n"
   ]
  },
  {
   "cell_type": "markdown",
   "metadata": {},
   "source": [
    "7. ¿Qué tipo de datos son las variables nombre, edad, país? Imprima el tipo de dato de estas variables con la función print()."
   ]
  },
  {
   "cell_type": "markdown",
   "metadata": {},
   "source": [
    "La variable edad es del tipo númerico, sin embargo, nombre y pais son cadena de caracteres. "
   ]
  },
  {
   "cell_type": "code",
   "execution_count": 9,
   "metadata": {},
   "outputs": [
    {
     "name": "stdout",
     "output_type": "stream",
     "text": [
      "20\n",
      "Isac Sanmael Lainez Sevilla\n",
      "Honduras\n"
     ]
    }
   ],
   "source": [
    "print(edad)\n",
    "print(\"Isac Sanmael Lainez Sevilla\")\n",
    "print(\"Honduras\")"
   ]
  },
  {
   "cell_type": "markdown",
   "metadata": {},
   "source": [
    "8. Imprima la frase \"En astronomía, la clasificación estelar es la clasificación de las estrellas en función de sus características espectrales.\" en tres líneas separadas utilizando una sola función print() y el caracter de escape \\n. Su output debería verse así:"
   ]
  },
  {
   "cell_type": "code",
   "execution_count": 1,
   "metadata": {},
   "outputs": [
    {
     "name": "stdout",
     "output_type": "stream",
     "text": [
      "En astronomía, la clasificación estelar\n",
      "es la clasificación de las estrellas en\n",
      "función de sus características espectrales.\n"
     ]
    }
   ],
   "source": [
    "x=\"En astronomía, la clasificación estelar\\nes la clasificación de las estrellas en\\nfunción de sus características espectrales.\"\n",
    "\n",
    "print(x)"
   ]
  },
  {
   "cell_type": "markdown",
   "metadata": {},
   "source": [
    "9. Imprima las strings \"Hipergigantes\", \"Subgigantes\", \"Secuencia principal\" utilizando una sola función print(), cada palabra deberá estar separada por una string \"---\" utilizando el argumento sep=\"---\". La línea debe de terminar con un string \"*\", utilizando el argumento end=\"\"."
   ]
  },
  {
   "cell_type": "code",
   "execution_count": 5,
   "metadata": {},
   "outputs": [
    {
     "name": "stdout",
     "output_type": "stream",
     "text": [
      "Hipergigantes---Subgigantes---Secuencia principal*"
     ]
    }
   ],
   "source": [
    "y=\"Hipergigantes\"\n",
    "z=\"Subgigantes\"\n",
    "w=\"Secuencia principal\"\n",
    "print(y,z,w,sep=\"---\",end=\"*\")"
   ]
  },
  {
   "cell_type": "markdown",
   "metadata": {},
   "source": [
    "10. Una masa solar es equivalente a 1,98892 × 10^30 kg. El Sol (1 masa solar) tiene aproximadamente 1048 veces la masa de Júpiter. Cree dos variables m_solar y m_jupiter correspondientes a la masa del Sol y el cálculo de la masa de Júpiter. Imprima el resultado utilizando la función print() con interpolación de variables i.e.[print(f\"Un string {su_variable}\"]."
   ]
  },
  {
   "cell_type": "code",
   "execution_count": 30,
   "metadata": {},
   "outputs": [
    {
     "name": "stdout",
     "output_type": "stream",
     "text": [
      "1.8978244274809163e+27Kg\n"
     ]
    }
   ],
   "source": [
    "m_solar = 1.98892*(10**30)\n",
    "m_jupiter = a*1/1048\n",
    "\n",
    "print(f\"{m_jupiter}\" + \"Kg\")\n"
   ]
  },
  {
   "cell_type": "markdown",
   "metadata": {},
   "source": [
    "11. Una Unidad Astronómica AU es definida como \"una unidad de longitud igual, por definición, a 149 597 870 700 m que equivale aproximadamente a la distancia media entre la Tierra y el Sol.\" Utilizando Python: operadores <>, condicionales if, y print(). Evalue las condiciones True False e imprima True si su distancia al Sol es mayor que 1 AU o imprima False si la distancia del planeta al Sol es menor a 1 AU."
   ]
  },
  {
   "cell_type": "code",
   "execution_count": 52,
   "metadata": {},
   "outputs": [
    {
     "name": "stdout",
     "output_type": "stream",
     "text": [
      "verdadero\n"
     ]
    }
   ],
   "source": [
    "u_astro=149597870700\n",
    "d_mer=0.389*u_astro\n",
    "print('verdadero' if  d_mer < u_astro else 'falso')"
   ]
  },
  {
   "cell_type": "code",
   "execution_count": 51,
   "metadata": {},
   "outputs": [
    {
     "name": "stdout",
     "output_type": "stream",
     "text": [
      "verdadero\n"
     ]
    }
   ],
   "source": [
    "d_ven=0.723*u_astro\n",
    "u_astro=149597870700\n",
    "print('verdadero' if d_ven < u_astro else 'falso')"
   ]
  },
  {
   "cell_type": "code",
   "execution_count": 50,
   "metadata": {},
   "outputs": [
    {
     "name": "stdout",
     "output_type": "stream",
     "text": [
      "Falso\n"
     ]
    }
   ],
   "source": [
    "u_astro=149597870700\n",
    "d_mart=1.524*u_astro\n",
    "print('Verdadero' if  d_mart < u_astro else 'Falso')"
   ]
  },
  {
   "cell_type": "code",
   "execution_count": 53,
   "metadata": {},
   "outputs": [
    {
     "name": "stdout",
     "output_type": "stream",
     "text": [
      "Falso\n"
     ]
    }
   ],
   "source": [
    "u_astro=149597870700\n",
    "d_jup=5.203*u_astro\n",
    "print('Verdadero' if  d_jup < u_astro else 'Falso') "
   ]
  },
  {
   "cell_type": "code",
   "execution_count": 54,
   "metadata": {},
   "outputs": [
    {
     "name": "stdout",
     "output_type": "stream",
     "text": [
      "Falso\n"
     ]
    }
   ],
   "source": [
    "u_astro=149597870700\n",
    "d_sat=9.537*u_astro\n",
    "print('Verdadero' if  d_sat < u_astro else 'Falso') "
   ]
  },
  {
   "cell_type": "code",
   "execution_count": null,
   "metadata": {},
   "outputs": [],
   "source": []
  }
 ],
 "metadata": {
  "kernelspec": {
   "display_name": "Python 3",
   "language": "python",
   "name": "python3"
  },
  "language_info": {
   "codemirror_mode": {
    "name": "ipython",
    "version": 3
   },
   "file_extension": ".py",
   "mimetype": "text/x-python",
   "name": "python",
   "nbconvert_exporter": "python",
   "pygments_lexer": "ipython3",
   "version": "3.7.6"
  }
 },
 "nbformat": 4,
 "nbformat_minor": 4
}
